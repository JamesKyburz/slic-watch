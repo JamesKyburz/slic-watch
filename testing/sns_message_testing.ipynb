{
 "cells": [
  {
   "cell_type": "code",
   "execution_count": null,
   "metadata": {},
   "outputs": [],
   "source": [
    "# SNS Alarm Testing"
   ]
  },
  {
   "cell_type": "code",
   "execution_count": null,
   "metadata": {},
   "outputs": [],
   "source": [
    "import boto3\n",
    "import random\n",
    "from tqdm.notebook import tqdm"
   ]
  },
  {
   "cell_type": "code",
   "execution_count": null,
   "metadata": {},
   "outputs": [],
   "source": [
    "session = boto3.session.Session()"
   ]
  },
  {
   "cell_type": "code",
   "execution_count": null,
   "metadata": {},
   "outputs": [],
   "source": [
    "sns_client = session.client('sns')"
   ]
  },
  {
   "cell_type": "code",
   "execution_count": null,
   "metadata": {},
   "outputs": [],
   "source": [
    "topic_arn = [t['TopicArn'] for t in sns_client.list_topics()['Topics'] if 'awesome-savage-topic' in t['TopicArn']][0]\n",
    "topic_arn"
   ]
  },
  {
   "cell_type": "code",
   "execution_count": null,
   "metadata": {},
   "outputs": [],
   "source": [
    "# Send a normal message\n",
    "sns_client.publish(\n",
    "    TopicArn=topic_arn,\n",
    "    Message=json.dumps('{}'),\n",
    ")"
   ]
  },
  {
   "cell_type": "code",
   "execution_count": null,
   "metadata": {},
   "outputs": [],
   "source": [
    "# Send a failure message to trigger an NumberOfNotificationsFailed alarm\n",
    "message = {\n",
    "    'fail': True,\n",
    "    'id': 123\n",
    "}\n",
    "sns_client.publish(\n",
    "    TopicArn=topic_arn,\n",
    "    Message=json.dumps(message),\n",
    ")"
   ]
  },
  {
   "cell_type": "code",
   "execution_count": null,
   "metadata": {},
   "outputs": [],
   "source": [
    "# Send message with randomised failures\n",
    "for _ in tqdm(range(0, 5000)):\n",
    "    message = {\n",
    "        'fail': random.randint(0, 100) > 75,\n",
    "        'id': 123\n",
    "    }\n",
    "    sns_client.publish(\n",
    "        TopicArn=topic_arn,\n",
    "        Message=json.dumps(message),\n",
    "    )"
   ]
  },
  {
   "cell_type": "code",
   "execution_count": null,
   "metadata": {},
   "outputs": [],
   "source": []
  }
 ],
 "metadata": {
  "kernelspec": {
   "display_name": "Python 3",
   "language": "python",
   "name": "python3"
  },
  "language_info": {
   "codemirror_mode": {
    "name": "ipython",
    "version": 3
   },
   "file_extension": ".py",
   "mimetype": "text/x-python",
   "name": "python",
   "nbconvert_exporter": "python",
   "pygments_lexer": "ipython3"
  }
 },
 "nbformat": 4,
 "nbformat_minor": 4
}

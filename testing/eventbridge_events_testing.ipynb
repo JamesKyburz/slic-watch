{
 "cells": [
  {
   "cell_type": "markdown",
   "id": "3e825220",
   "metadata": {},
   "source": [
    "# EventBridge Alarm Testing"
   ]
  },
  {
   "cell_type": "code",
   "execution_count": 1,
   "id": "a64602bf",
   "metadata": {},
   "outputs": [],
   "source": [
    "import boto3\n",
    "from tqdm.notebook import tqdm"
   ]
  },
  {
   "cell_type": "code",
   "execution_count": 2,
   "id": "bd84a08d",
   "metadata": {
    "scrolled": true
   },
   "outputs": [],
   "source": [
    "events_client = boto3.client('events',\n",
    "region_name='eu-west-1',                             \n",
    "aws_access_key_id='aws_access_key_id',\n",
    "aws_secret_access_key='aws_secret_access_key'\n",
    ")"
   ]
  },
  {
   "cell_type": "code",
   "execution_count": 3,
   "id": "e2228271",
   "metadata": {},
   "outputs": [],
   "source": [
    "rule_name = 'serverless-test-project-dev-eventsRule-rule-1'"
   ]
  },
  {
   "cell_type": "markdown",
   "id": "f4b6f4e5",
   "metadata": {},
   "source": [
    "### Send a normal event"
   ]
  },
  {
   "cell_type": "code",
   "execution_count": 23,
   "id": "baf3649c",
   "metadata": {
    "scrolled": true
   },
   "outputs": [
    {
     "data": {
      "text/plain": [
       "{'FailedEntryCount': 0,\n",
       " 'Entries': [{'EventId': '73fe5cb2-4e97-f302-44d6-3e444c14e744'}],\n",
       " 'ResponseMetadata': {'RequestId': 'b8083213-0476-4ee7-9b32-e004bbaeb401',\n",
       "  'HTTPStatusCode': 200,\n",
       "  'HTTPHeaders': {'x-amzn-requestid': 'b8083213-0476-4ee7-9b32-e004bbaeb401',\n",
       "   'content-type': 'application/x-amz-json-1.1',\n",
       "   'content-length': '85',\n",
       "   'date': 'Mon, 11 Jul 2022 10:51:15 GMT'},\n",
       "  'RetryAttempts': 0}}"
      ]
     },
     "execution_count": 23,
     "metadata": {},
     "output_type": "execute_result"
    }
   ],
   "source": [
    "events_client.put_events(\n",
    "        Entries=[\n",
    "                {\n",
    "                    'DetailType':  'Invoke Lambda Function',\n",
    "                    'Source': 'aws',\n",
    "                    'EventBusName': 'default',\n",
    "                    'Detail' : '{\"abc\":\"abc\"}'\n",
    "                }\n",
    "            ]\n",
    "    )"
   ]
  },
  {
   "cell_type": "markdown",
   "id": "b4bf991c",
   "metadata": {},
   "source": [
    "### Send a failed event"
   ]
  },
  {
   "cell_type": "code",
   "execution_count": 29,
   "id": "ceb4e0ff",
   "metadata": {
    "scrolled": true
   },
   "outputs": [
    {
     "data": {
      "text/plain": [
       "{'FailedEntryCount': 1,\n",
       " 'Entries': [{'ErrorCode': 'MalformedDetail',\n",
       "   'ErrorMessage': 'Detail is malformed.'}],\n",
       " 'ResponseMetadata': {'RequestId': '27cc1e46-7b22-4e4d-ac7d-013f68c0fe16',\n",
       "  'HTTPStatusCode': 200,\n",
       "  'HTTPHeaders': {'x-amzn-requestid': '27cc1e46-7b22-4e4d-ac7d-013f68c0fe16',\n",
       "   'content-type': 'application/x-amz-json-1.1',\n",
       "   'content-length': '104',\n",
       "   'date': 'Mon, 11 Jul 2022 14:29:46 GMT'},\n",
       "  'RetryAttempts': 0}}"
      ]
     },
     "execution_count": 29,
     "metadata": {},
     "output_type": "execute_result"
    }
   ],
   "source": [
    "# for _ in tqdm(range(0, 10)):\n",
    "events_client.put_events(\n",
    "        Entries=[\n",
    "                {\n",
    "                    'DetailType':  'Invoke Lambda Function',\n",
    "                    'Source': 'aws',\n",
    "                    'EventBusName': 'default',\n",
    "                    'Detail' : '{\"triggerError\": True}'\n",
    "                }\n",
    "            ]\n",
    "    )"
   ]
  },
  {
   "cell_type": "markdown",
   "id": "d1bc94cc",
   "metadata": {},
   "source": [
    "### Send lots of events"
   ]
  },
  {
   "cell_type": "code",
   "execution_count": 8,
   "id": "0060a197",
   "metadata": {},
   "outputs": [
    {
     "data": {
      "application/vnd.jupyter.widget-view+json": {
       "model_id": "802026b83caa487a851035a037dbbe13",
       "version_major": 2,
       "version_minor": 0
      },
      "text/plain": [
       "  0%|          | 0/10000 [00:00<?, ?it/s]"
      ]
     },
     "metadata": {},
     "output_type": "display_data"
    }
   ],
   "source": [
    "for _ in tqdm(range(0, 10000)):\n",
    "    events_client.put_events(\n",
    "        Entries=[\n",
    "                {\n",
    "                    'DetailType':  'Invoke Lambda Function',\n",
    "                    'Source': 'aws',\n",
    "                    'EventBusName': 'default',\n",
    "                    'Detail' : '{\"testb\": \"testb\", \"id\": 123 }'\n",
    "                }\n",
    "            ]\n",
    "    )"
   ]
  }
 ],
 "metadata": {
  "kernelspec": {
   "display_name": "Python 3 (ipykernel)",
   "language": "python",
   "name": "python3"
  },
  "language_info": {
   "codemirror_mode": {
    "name": "ipython",
    "version": 3
   },
   "file_extension": ".py",
   "mimetype": "text/x-python",
   "name": "python",
   "nbconvert_exporter": "python",
   "pygments_lexer": "ipython3",
   "version": "3.9.13"
  }
 },
 "nbformat": 4,
 "nbformat_minor": 5
}

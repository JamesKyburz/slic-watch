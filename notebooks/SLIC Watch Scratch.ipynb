{
 "cells": [
  {
   "cell_type": "code",
   "execution_count": 85,
   "metadata": {
    "ExecuteTime": {
     "end_time": "2020-07-20T08:03:05.093615Z",
     "start_time": "2020-07-20T08:03:05.075611Z"
    }
   },
   "outputs": [],
   "source": [
    "import boto3\n",
    "import json"
   ]
  },
  {
   "cell_type": "markdown",
   "metadata": {},
   "source": [
    "## Lambda"
   ]
  },
  {
   "cell_type": "code",
   "execution_count": 86,
   "metadata": {
    "ExecuteTime": {
     "end_time": "2020-07-20T08:03:06.044665Z",
     "start_time": "2020-07-20T08:03:05.999444Z"
    }
   },
   "outputs": [],
   "source": [
    "lambda_client = boto3.client('lambda')"
   ]
  },
  {
   "cell_type": "code",
   "execution_count": 87,
   "metadata": {
    "ExecuteTime": {
     "end_time": "2020-07-20T08:03:06.489473Z",
     "start_time": "2020-07-20T08:03:06.480521Z"
    }
   },
   "outputs": [],
   "source": [
    "def get_applicable_lambdas():\n",
    "    tags_per_func = {}\n",
    "    for response in lambda_client.get_paginator('list_functions').paginate():\n",
    "        for function in response['Functions']:\n",
    "            name = function['FunctionName']\n",
    "            tags = lambda_client.get_function(FunctionName=name).get('Tags', {})\n",
    "            tags_per_func[name] = tags\n",
    "    return tags_per_func"
   ]
  },
  {
   "cell_type": "code",
   "execution_count": 88,
   "metadata": {
    "ExecuteTime": {
     "end_time": "2020-07-20T08:03:09.400189Z",
     "start_time": "2020-07-20T08:03:06.870387Z"
    }
   },
   "outputs": [],
   "source": [
    "lambda_functions = get_applicable_lambdas()"
   ]
  },
  {
   "cell_type": "markdown",
   "metadata": {},
   "source": [
    "# SQS"
   ]
  },
  {
   "cell_type": "code",
   "execution_count": 89,
   "metadata": {
    "ExecuteTime": {
     "end_time": "2020-07-20T08:03:09.476690Z",
     "start_time": "2020-07-20T08:03:09.402634Z"
    }
   },
   "outputs": [],
   "source": [
    "sqs_client = boto3.client('sqs')"
   ]
  },
  {
   "cell_type": "code",
   "execution_count": 90,
   "metadata": {
    "ExecuteTime": {
     "end_time": "2020-07-20T08:03:09.499074Z",
     "start_time": "2020-07-20T08:03:09.481826Z"
    }
   },
   "outputs": [],
   "source": [
    "def get_applicable_queues():\n",
    "    tags_per_queue = {}\n",
    "    for response in sqs_client.get_paginator('list_queues').paginate():\n",
    "        for queue in response['QueueUrls']:\n",
    "            tags = sqs_client.list_queue_tags(QueueUrl=queue).get('Tags', {})\n",
    "            tags_per_queue[queue] = tags\n",
    "    return tags_per_queue"
   ]
  },
  {
   "cell_type": "code",
   "execution_count": 210,
   "metadata": {
    "ExecuteTime": {
     "end_time": "2020-07-20T13:43:59.787360Z",
     "start_time": "2020-07-20T13:43:58.821455Z"
    }
   },
   "outputs": [],
   "source": [
    "sqs_queues = get_applicable_queues()"
   ]
  },
  {
   "cell_type": "markdown",
   "metadata": {},
   "source": [
    "# DynamoDB"
   ]
  },
  {
   "cell_type": "code",
   "execution_count": 92,
   "metadata": {
    "ExecuteTime": {
     "end_time": "2020-07-20T08:03:10.018232Z",
     "start_time": "2020-07-20T08:03:09.960984Z"
    }
   },
   "outputs": [],
   "source": [
    "dynamo_client = boto3.client('dynamodb')"
   ]
  },
  {
   "cell_type": "code",
   "execution_count": 93,
   "metadata": {
    "ExecuteTime": {
     "end_time": "2020-07-20T08:03:10.477973Z",
     "start_time": "2020-07-20T08:03:10.183895Z"
    }
   },
   "outputs": [
    {
     "name": "stdout",
     "output_type": "stream",
     "text": [
      "{'devChecklists': [{'Key': 'STAGE', 'Value': 'dev'}]}\n"
     ]
    }
   ],
   "source": [
    "tags_per_table = {}\n",
    "for response in dynamo_client.get_paginator('list_tables').paginate():\n",
    "    for table in response['TableNames']:\n",
    "        arn = dynamo_client.describe_table(TableName=table)['Table']['TableArn']\n",
    "        tags = dynamo_client.list_tags_of_resource(ResourceArn=arn)['Tags']\n",
    "        tags_per_table[table] = tags\n",
    "        \n",
    "print(tags_per_table)"
   ]
  },
  {
   "cell_type": "markdown",
   "metadata": {},
   "source": [
    "# Kinesis"
   ]
  },
  {
   "cell_type": "code",
   "execution_count": 212,
   "metadata": {
    "ExecuteTime": {
     "end_time": "2020-07-20T16:53:34.174416Z",
     "start_time": "2020-07-20T16:53:34.097084Z"
    }
   },
   "outputs": [],
   "source": [
    "kinesis_client = boto3.client('kinesis')"
   ]
  },
  {
   "cell_type": "code",
   "execution_count": 213,
   "metadata": {
    "ExecuteTime": {
     "end_time": "2020-07-20T16:53:35.152583Z",
     "start_time": "2020-07-20T16:53:34.449105Z"
    }
   },
   "outputs": [],
   "source": [
    "tags_per_stream = {}\n",
    "for response in kinesis_client.get_paginator('list_streams').paginate():\n",
    "    for stream_name in response['StreamNames']:\n",
    "        stream_tags = kinesis_client.list_tags_for_stream(StreamName=stream_name)['Tags']\n",
    "        tags_per_stream[stream_name] = stream_tags"
   ]
  },
  {
   "cell_type": "code",
   "execution_count": 214,
   "metadata": {
    "ExecuteTime": {
     "end_time": "2020-07-20T16:53:35.166473Z",
     "start_time": "2020-07-20T16:53:35.155392Z"
    }
   },
   "outputs": [
    {
     "data": {
      "text/plain": [
       "{}"
      ]
     },
     "execution_count": 214,
     "metadata": {},
     "output_type": "execute_result"
    }
   ],
   "source": [
    "tags_per_stream"
   ]
  },
  {
   "cell_type": "markdown",
   "metadata": {},
   "source": [
    "# Create dashboard"
   ]
  },
  {
   "cell_type": "code",
   "execution_count": 97,
   "metadata": {
    "ExecuteTime": {
     "end_time": "2020-07-20T08:03:13.048146Z",
     "start_time": "2020-07-20T08:03:12.999148Z"
    }
   },
   "outputs": [],
   "source": [
    "cw_client = boto3.client('cloudwatch')"
   ]
  },
  {
   "cell_type": "code",
   "execution_count": 118,
   "metadata": {
    "ExecuteTime": {
     "end_time": "2020-07-20T09:41:38.197624Z",
     "start_time": "2020-07-20T09:41:38.193296Z"
    }
   },
   "outputs": [],
   "source": [
    "from aws_cdk.aws_cloudwatch import Dashboard, GraphWidget"
   ]
  },
  {
   "cell_type": "code",
   "execution_count": 182,
   "metadata": {
    "ExecuteTime": {
     "end_time": "2020-07-20T10:48:04.181618Z",
     "start_time": "2020-07-20T10:48:04.175307Z"
    }
   },
   "outputs": [],
   "source": [
    "METRIC_PERIOD = 60\n",
    "REGION = boto3.DEFAULT_SESSION.region_name\n",
    "WIDGET_WIDTH = 24\n",
    "WIDGET_HEIGHT = 6\n",
    "MAX_WIDTH = 24\n",
    "DASHBOARD_PERIOD = '-PT3H'"
   ]
  },
  {
   "cell_type": "code",
   "execution_count": 183,
   "metadata": {
    "ExecuteTime": {
     "end_time": "2020-07-20T10:48:05.238076Z",
     "start_time": "2020-07-20T10:48:05.230100Z"
    }
   },
   "outputs": [],
   "source": [
    "def create_metric_widget(title, metrics):\n",
    "    return dict(\n",
    "        type='metric',\n",
    "        properties=dict(\n",
    "            metrics=metrics,\n",
    "            view='timeSeries',\n",
    "            region=REGION,\n",
    "            stat='Maximum',\n",
    "            period=METRIC_PERIOD,\n",
    "            title=title\n",
    "        )        \n",
    "    )"
   ]
  },
  {
   "cell_type": "code",
   "execution_count": 195,
   "metadata": {
    "ExecuteTime": {
     "end_time": "2020-07-20T10:49:58.370912Z",
     "start_time": "2020-07-20T10:49:58.360837Z"
    }
   },
   "outputs": [],
   "source": [
    "def create_all_lambda_widget():\n",
    "    all_lambda_metrics = [\n",
    "        ['AWS/Lambda', 'Duration', {'stat': 'Maximum'}],\n",
    "        ['.', '.', {'stat': 'Average'}],\n",
    "        ['.', '.', {'stat': 'p95'}],\n",
    "        ['.', '.', {'stat': 'Minimum'}],\n",
    "        ['.', 'ConcurrentExecutions', {'stat': 'Maximum', 'yAxis': 'right'}]\n",
    "    ]\n",
    "    return create_metric_widget(title='All Functions Duration/Concurrent Executions', metrics=all_lambda_metrics)"
   ]
  },
  {
   "cell_type": "code",
   "execution_count": 196,
   "metadata": {
    "ExecuteTime": {
     "end_time": "2020-07-20T10:49:58.640570Z",
     "start_time": "2020-07-20T10:49:58.635958Z"
    }
   },
   "outputs": [],
   "source": [
    "from collections import namedtuple"
   ]
  },
  {
   "cell_type": "code",
   "execution_count": 197,
   "metadata": {
    "ExecuteTime": {
     "end_time": "2020-07-20T10:49:58.771353Z",
     "start_time": "2020-07-20T10:49:58.766378Z"
    }
   },
   "outputs": [],
   "source": [
    "Metric = namedtuple('Metric', ['metric', 'stat'])"
   ]
  },
  {
   "cell_type": "code",
   "execution_count": 198,
   "metadata": {
    "ExecuteTime": {
     "end_time": "2020-07-20T10:49:58.906270Z",
     "start_time": "2020-07-20T10:49:58.899775Z"
    }
   },
   "outputs": [],
   "source": [
    "func_metrics = [\n",
    "    Metric('Duration', 'Average'),\n",
    "    Metric('Duration', 'p95'),\n",
    "    Metric('Duration', 'Maximum'),\n",
    "    Metric('Invocations', 'Sum'),\n",
    "    Metric('ConcurrentExecutions', 'Maximum')\n",
    "]"
   ]
  },
  {
   "cell_type": "code",
   "execution_count": 199,
   "metadata": {
    "ExecuteTime": {
     "end_time": "2020-07-20T10:49:59.026829Z",
     "start_time": "2020-07-20T10:49:59.020134Z"
    }
   },
   "outputs": [],
   "source": [
    "def create_func_metrics(functions, metric):\n",
    "    return [\n",
    "        ['AWS/Lambda', metric.metric, 'FunctionName', func, {'stat': metric.stat }]\n",
    "        for func in functions\n",
    "    ]"
   ]
  },
  {
   "cell_type": "code",
   "execution_count": 211,
   "metadata": {
    "ExecuteTime": {
     "end_time": "2020-07-20T16:39:09.965968Z",
     "start_time": "2020-07-20T16:39:09.934694Z"
    }
   },
   "outputs": [],
   "source": [
    "func_widgets = []\n",
    "def create_function_widgets():\n",
    "    return [\n",
    "        create_metric_widget(\n",
    "            title=f'{metric.metric} {metric.stat} per Function', \n",
    "            metrics=create_func_metrics(lambda_functions, metric) \n",
    "        ) for metric in func_metrics\n",
    "    ]"
   ]
  },
  {
   "cell_type": "code",
   "execution_count": 201,
   "metadata": {
    "ExecuteTime": {
     "end_time": "2020-07-20T10:49:59.251389Z",
     "start_time": "2020-07-20T10:49:59.243066Z"
    }
   },
   "outputs": [],
   "source": [
    "widgets = [create_all_lambda_widget()] + create_function_widgets()"
   ]
  },
  {
   "cell_type": "code",
   "execution_count": 202,
   "metadata": {
    "ExecuteTime": {
     "end_time": "2020-07-20T10:49:59.374327Z",
     "start_time": "2020-07-20T10:49:59.369117Z"
    }
   },
   "outputs": [],
   "source": [
    "x = 0\n",
    "y = 0"
   ]
  },
  {
   "cell_type": "code",
   "execution_count": 208,
   "metadata": {
    "ExecuteTime": {
     "end_time": "2020-07-20T10:59:11.557549Z",
     "start_time": "2020-07-20T10:59:11.536356Z"
    }
   },
   "outputs": [],
   "source": [
    "for widget in widgets:\n",
    "    if x + WIDGET_WIDTH > MAX_WIDTH:\n",
    "        y += WIDGET_HEIGHT\n",
    "        x = 0\n",
    "    widget['x'] = x\n",
    "    widget['y'] = y\n",
    "    widget['width'] = WIDGET_WIDTH\n",
    "    widget['height'] = WIDGET_HEIGHT\n",
    "    x += WIDGET_WIDTH"
   ]
  },
  {
   "cell_type": "code",
   "execution_count": 209,
   "metadata": {
    "ExecuteTime": {
     "end_time": "2020-07-20T10:59:12.328582Z",
     "start_time": "2020-07-20T10:59:12.307952Z"
    }
   },
   "outputs": [],
   "source": [
    "dash = {\n",
    "    'start': DASHBOARD_PERIOD,\n",
    "    'widgets': widgets\n",
    "}\n",
    "dash_body = json.dumps(dash)"
   ]
  },
  {
   "cell_type": "code",
   "execution_count": 207,
   "metadata": {
    "ExecuteTime": {
     "end_time": "2020-07-20T10:50:20.303384Z",
     "start_time": "2020-07-20T10:50:19.198026Z"
    }
   },
   "outputs": [
    {
     "name": "stdout",
     "output_type": "stream",
     "text": [
      "{'DashboardValidationMessages': [], 'ResponseMetadata': {'RequestId': 'a61f6c5a-e8df-4d94-ae5e-4ecd6a40c69e', 'HTTPStatusCode': 200, 'HTTPHeaders': {'x-amzn-requestid': 'a61f6c5a-e8df-4d94-ae5e-4ecd6a40c69e', 'content-type': 'text/xml', 'content-length': '292', 'date': 'Mon, 20 Jul 2020 10:50:19 GMT'}, 'RetryAttempts': 0}}\n"
     ]
    }
   ],
   "source": [
    "dash_response = cw_client.put_dashboard(DashboardName='SLICWatch', DashboardBody=dash_body)\n",
    "print(dash_response)"
   ]
  },
  {
   "cell_type": "code",
   "execution_count": null,
   "metadata": {},
   "outputs": [],
   "source": []
  }
 ],
 "metadata": {
  "kernelspec": {
   "display_name": "Python 3",
   "language": "python",
   "name": "python3"
  },
  "language_info": {
   "codemirror_mode": {
    "name": "ipython",
    "version": 3
   },
   "file_extension": ".py",
   "mimetype": "text/x-python",
   "name": "python",
   "nbconvert_exporter": "python",
   "pygments_lexer": "ipython3",
   "version": "3.8.3"
  }
 },
 "nbformat": 4,
 "nbformat_minor": 4
}

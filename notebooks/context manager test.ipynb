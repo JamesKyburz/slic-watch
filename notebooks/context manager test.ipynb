{
 "cells": [
  {
   "cell_type": "code",
   "execution_count": 2,
   "metadata": {
    "ExecuteTime": {
     "end_time": "2020-10-29T13:19:18.367393Z",
     "start_time": "2020-10-29T13:19:18.351654Z"
    }
   },
   "outputs": [],
   "source": [
    "from contextlib import contextmanager"
   ]
  },
  {
   "cell_type": "code",
   "execution_count": 24,
   "metadata": {
    "ExecuteTime": {
     "end_time": "2020-10-29T13:31:08.764205Z",
     "start_time": "2020-10-29T13:31:08.746938Z"
    }
   },
   "outputs": [],
   "source": [
    "from contextlib import ContextDecorator\n",
    "\n",
    "class mycontext(ContextDecorator):\n",
    "    def __enter__(self):\n",
    "        print('Starting', self)\n",
    "        return self\n",
    "\n",
    "    def __exit__(self, *exc):\n",
    "        print('Finishing', self, exc)\n",
    "        return False"
   ]
  },
  {
   "cell_type": "code",
   "execution_count": 29,
   "metadata": {
    "ExecuteTime": {
     "end_time": "2020-10-29T13:31:48.853326Z",
     "start_time": "2020-10-29T13:31:48.823047Z"
    }
   },
   "outputs": [],
   "source": [
    "@mycontext()\n",
    "def handle_event(event, context):\n",
    "    return {\n",
    "        'ok': True\n",
    "    }"
   ]
  },
  {
   "cell_type": "code",
   "execution_count": 28,
   "metadata": {
    "ExecuteTime": {
     "end_time": "2020-10-29T13:31:28.048007Z",
     "start_time": "2020-10-29T13:31:28.013495Z"
    }
   },
   "outputs": [
    {
     "name": "stdout",
     "output_type": "stream",
     "text": [
      "Starting <__main__.mycontext object at 0x7fa4cd3f42e0>\n",
      "Finishing <__main__.mycontext object at 0x7fa4cd3f42e0> (<class 'ValueError'>, ValueError(), <traceback object at 0x7fa4cd3fad40>)\n"
     ]
    },
    {
     "ename": "ValueError",
     "evalue": "",
     "output_type": "error",
     "traceback": [
      "\u001b[0;31m---------------------------------------------------------------------------\u001b[0m",
      "\u001b[0;31mValueError\u001b[0m                                Traceback (most recent call last)",
      "\u001b[0;32m<ipython-input-28-4e022b1092a8>\u001b[0m in \u001b[0;36m<module>\u001b[0;34m\u001b[0m\n\u001b[0;32m----> 1\u001b[0;31m \u001b[0mhandle_event\u001b[0m\u001b[0;34m(\u001b[0m\u001b[0;34m{\u001b[0m\u001b[0;34m}\u001b[0m\u001b[0;34m,\u001b[0m \u001b[0;34m{\u001b[0m\u001b[0;34m}\u001b[0m\u001b[0;34m)\u001b[0m\u001b[0;34m\u001b[0m\u001b[0;34m\u001b[0m\u001b[0m\n\u001b[0m",
      "\u001b[0;32m~/miniconda3/envs/py38/lib/python3.8/contextlib.py\u001b[0m in \u001b[0;36minner\u001b[0;34m(*args, **kwds)\u001b[0m\n\u001b[1;32m     73\u001b[0m         \u001b[0;32mdef\u001b[0m \u001b[0minner\u001b[0m\u001b[0;34m(\u001b[0m\u001b[0;34m*\u001b[0m\u001b[0margs\u001b[0m\u001b[0;34m,\u001b[0m \u001b[0;34m**\u001b[0m\u001b[0mkwds\u001b[0m\u001b[0;34m)\u001b[0m\u001b[0;34m:\u001b[0m\u001b[0;34m\u001b[0m\u001b[0;34m\u001b[0m\u001b[0m\n\u001b[1;32m     74\u001b[0m             \u001b[0;32mwith\u001b[0m \u001b[0mself\u001b[0m\u001b[0;34m.\u001b[0m\u001b[0m_recreate_cm\u001b[0m\u001b[0;34m(\u001b[0m\u001b[0;34m)\u001b[0m\u001b[0;34m:\u001b[0m\u001b[0;34m\u001b[0m\u001b[0;34m\u001b[0m\u001b[0m\n\u001b[0;32m---> 75\u001b[0;31m                 \u001b[0;32mreturn\u001b[0m \u001b[0mfunc\u001b[0m\u001b[0;34m(\u001b[0m\u001b[0;34m*\u001b[0m\u001b[0margs\u001b[0m\u001b[0;34m,\u001b[0m \u001b[0;34m**\u001b[0m\u001b[0mkwds\u001b[0m\u001b[0;34m)\u001b[0m\u001b[0;34m\u001b[0m\u001b[0;34m\u001b[0m\u001b[0m\n\u001b[0m\u001b[1;32m     76\u001b[0m         \u001b[0;32mreturn\u001b[0m \u001b[0minner\u001b[0m\u001b[0;34m\u001b[0m\u001b[0;34m\u001b[0m\u001b[0m\n\u001b[1;32m     77\u001b[0m \u001b[0;34m\u001b[0m\u001b[0m\n",
      "\u001b[0;32m<ipython-input-27-9064287ae3b8>\u001b[0m in \u001b[0;36mhandle_event\u001b[0;34m(event, context)\u001b[0m\n\u001b[1;32m      4\u001b[0m \u001b[0;31m#         'ok': True\u001b[0m\u001b[0;34m\u001b[0m\u001b[0;34m\u001b[0m\u001b[0;34m\u001b[0m\u001b[0m\n\u001b[1;32m      5\u001b[0m \u001b[0;31m#     }\u001b[0m\u001b[0;34m\u001b[0m\u001b[0;34m\u001b[0m\u001b[0;34m\u001b[0m\u001b[0m\n\u001b[0;32m----> 6\u001b[0;31m     \u001b[0;32mraise\u001b[0m \u001b[0mValueError\u001b[0m\u001b[0;34m(\u001b[0m\u001b[0;34m)\u001b[0m\u001b[0;34m\u001b[0m\u001b[0;34m\u001b[0m\u001b[0m\n\u001b[0m",
      "\u001b[0;31mValueError\u001b[0m: "
     ]
    }
   ],
   "source": [
    "handle_event({}, {})"
   ]
  },
  {
   "cell_type": "code",
   "execution_count": 35,
   "metadata": {
    "ExecuteTime": {
     "end_time": "2020-10-29T13:42:20.495499Z",
     "start_time": "2020-10-29T13:42:20.472491Z"
    }
   },
   "outputs": [],
   "source": [
    "import json"
   ]
  },
  {
   "cell_type": "code",
   "execution_count": 48,
   "metadata": {
    "ExecuteTime": {
     "end_time": "2020-10-29T13:55:05.096423Z",
     "start_time": "2020-10-29T13:55:05.011952Z"
    }
   },
   "outputs": [
    {
     "name": "stdout",
     "output_type": "stream",
     "text": [
      "inside my_decorator.__init__()\n",
      "inside my_decorator.__call__()\n",
      "Finished decorating handle_event()\n",
      "event {'something': 7}\n",
      "inside handle_event() {'something': 7} {}\n",
      "RESULT {'Body': '\"Ooops! Sorry! Something bad failed\"', 'StatusCode': 500}\n"
     ]
    }
   ],
   "source": [
    "def _process_response(payload, code):\n",
    "    return {\n",
    "        'Body': json.dumps(payload),\n",
    "        'StatusCode': code\n",
    "    }\n",
    "\n",
    "class response_handling(object):\n",
    "    def __init__(self, success_code=200):\n",
    "        print(\"inside my_decorator.__init__()\")\n",
    "        self.success_code = success_code\n",
    "\n",
    "    def __call__(self, f):\n",
    "        print(\"inside my_decorator.__call__()\")\n",
    "        def wrapped_function(event, context):\n",
    "            print('event', event)\n",
    "            try:\n",
    "                return _process_response(f(event, context), self.success_code) # Prove that function definition has completed            \n",
    "            except ValueError as ve:\n",
    "                return _process_response('Something failed', 400)\n",
    "            except Exception as e:\n",
    "                return _process_response('Ooops! Sorry! Something bad failed', 500)\n",
    "        return wrapped_function\n",
    "        \n",
    "@response_handling(success_code=201)\n",
    "def handle_event(event, context):\n",
    "    print(\"inside handle_event()\", event, context)\n",
    "#     return {\n",
    "#         \"ok\": True\n",
    "#     }\n",
    "    raise Exception('i broke')\n",
    "    \n",
    "\n",
    "print(\"Finished decorating handle_event()\")\n",
    "\n",
    "res = handle_event({'something': 7}, {})\n",
    "print('RESULT', res)"
   ]
  },
  {
   "cell_type": "code",
   "execution_count": null,
   "metadata": {},
   "outputs": [],
   "source": []
  },
  {
   "cell_type": "code",
   "execution_count": null,
   "metadata": {},
   "outputs": [],
   "source": []
  }
 ],
 "metadata": {
  "kernelspec": {
   "display_name": "Python 3",
   "language": "python",
   "name": "python3"
  },
  "language_info": {
   "codemirror_mode": {
    "name": "ipython",
    "version": 3
   },
   "file_extension": ".py",
   "mimetype": "text/x-python",
   "name": "python",
   "nbconvert_exporter": "python",
   "pygments_lexer": "ipython3",
   "version": "3.8.3"
  }
 },
 "nbformat": 4,
 "nbformat_minor": 4
}
